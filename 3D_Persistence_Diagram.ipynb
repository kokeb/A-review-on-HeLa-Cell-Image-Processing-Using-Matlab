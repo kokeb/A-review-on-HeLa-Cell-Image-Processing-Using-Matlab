{
  "nbformat": 4,
  "nbformat_minor": 0,
  "metadata": {
    "colab": {
      "provenance": [],
      "gpuType": "T4",
      "authorship_tag": "ABX9TyOJqpYy4eGzaUXVIDKsM0UU",
      "include_colab_link": true
    },
    "kernelspec": {
      "name": "python3",
      "display_name": "Python 3"
    },
    "language_info": {
      "name": "python"
    },
    "accelerator": "GPU",
    "gpuClass": "standard"
  },
  "cells": [
    {
      "cell_type": "markdown",
      "metadata": {
        "id": "view-in-github",
        "colab_type": "text"
      },
      "source": [
        "<a href=\"https://colab.research.google.com/github/kokeb/HeLa-cell-processing-A-review-/blob/main/3D_Persistence_Diagram.ipynb\" target=\"_parent\"><img src=\"https://colab.research.google.com/assets/colab-badge.svg\" alt=\"Open In Colab\"/></a>"
      ]
    },
    {
      "cell_type": "code",
      "execution_count": null,
      "metadata": {
        "id": "OFOiMIGdzBKr"
      },
      "outputs": [],
      "source": [
        "!pip install open3d\n"
      ]
    },
    {
      "cell_type": "code",
      "source": [
        "!pip install cython"
      ],
      "metadata": {
        "colab": {
          "base_uri": "https://localhost:8080/"
        },
        "id": "-BtHcxTB1uR4",
        "outputId": "b59bc53c-8acc-48ab-f0fe-5e0d5fd37322"
      },
      "execution_count": 5,
      "outputs": [
        {
          "output_type": "stream",
          "name": "stdout",
          "text": [
            "Looking in indexes: https://pypi.org/simple, https://us-python.pkg.dev/colab-wheels/public/simple/\n",
            "Requirement already satisfied: cython in /usr/local/lib/python3.10/dist-packages (0.29.34)\n"
          ]
        }
      ]
    },
    {
      "cell_type": "code",
      "metadata": {
        "id": "zyFoeTZGHPa-"
      },
      "source": [
        "## If you do not have the necessary libraries installed, run this cell (only for once)\n",
        "# Be patient! It takes a few minutes.\n",
        "## If you are running this notebook locally, to install standard libraries such as numpy, scipy, scikit-learn\n",
        "# I recommend to use the package manager \"conda\". e.g.,  \"conda install scikit-learn\"\n",
        "!pip install ripser umap-learn kmapper persim PersistenceImages\n",
        "!pip install git+https://github.com/shizuo-kaji/CubicalRipser_3dim\n",
        "!pip install tomaster Boruta\n",
        "\n"
      ],
      "execution_count": null,
      "outputs": []
    },
    {
      "cell_type": "code",
      "source": [
        "import numpy as np\n",
        "import open3d as o3d\n",
        "import ripser\n",
        "from persim import plot_diagrams"
      ],
      "metadata": {
        "id": "vZFZ6hRJ3Fhp"
      },
      "execution_count": 10,
      "outputs": []
    },
    {
      "metadata": {
        "id": "c99EvWo1s9-x",
        "colab": {
          "base_uri": "https://localhost:8080/"
        },
        "outputId": "11c4df58-acfb-4dfc-c8d2-e73d023353df"
      },
      "cell_type": "code",
      "source": [
        "# Load the Drive helper and mount\n",
        "from google.colab import drive\n",
        "\n",
        "# This will prompt for authorization.\n",
        "drive.mount('/content/drive')"
      ],
      "execution_count": 1,
      "outputs": [
        {
          "output_type": "stream",
          "name": "stdout",
          "text": [
            "Mounted at /content/drive\n"
          ]
        }
      ]
    },
    {
      "cell_type": "code",
      "source": [
        "# After executing the cell above, Drive\n",
        "# files will be present in \"/content/drive/My Drive\".\n",
        "!ls \"/content/drive/My Drive/HeLa_stl\""
      ],
      "metadata": {
        "id": "Mh5C0TKezyXi"
      },
      "execution_count": 3,
      "outputs": []
    },
    {
      "cell_type": "code",
      "source": [
        "# Load point cloud data from .ply file\n",
        "pcd = o3d.io.read_point_cloud(\"3t.ply\")"
      ],
      "metadata": {
        "id": "3IsHcJzw3bYU"
      },
      "execution_count": null,
      "outputs": []
    },
    {
      "cell_type": "code",
      "source": [
        "\n",
        "# Convert point cloud data to numpy array\n",
        "points = np.asarray(pcd.points)"
      ],
      "metadata": {
        "id": "7SHiQA7c3cQu"
      },
      "execution_count": null,
      "outputs": []
    },
    {
      "cell_type": "code",
      "source": [
        "# Compute Rips complex and persistence diagrams\n",
        "diagrams = ripser.ripser(points)[\"dgms\"]"
      ],
      "metadata": {
        "id": "Dxtl0Qo13e4t"
      },
      "execution_count": null,
      "outputs": []
    },
    {
      "cell_type": "code",
      "source": [
        "plot_diagrams(diagrams, show=True)"
      ],
      "metadata": {
        "id": "mmfpmIi93mva"
      },
      "execution_count": null,
      "outputs": []
    },
    {
      "cell_type": "code",
      "source": [
        "# Extract the Betti numbers\n",
        "betti_numbers = np.zeros(3) # assume it is for 3D data\n",
        "for i in range(len(diagrams)):\n",
        "    betti_numbers[i] = len(diagrams[i]) - np.count_nonzero(np.isinf(diagrams[i]))\n",
        "\n",
        "# Print the results\n",
        "print('Betti numbers:', betti_numbers)"
      ],
      "metadata": {
        "id": "FHqOlt0O3vB4"
      },
      "execution_count": null,
      "outputs": []
    },
    {
      "cell_type": "code",
      "source": [
        "#Claculate the points in the point clouds\n",
        "\n",
        "points = np.asarray(pcd.points)\n",
        "num_points = points.shape[0]\n",
        "print(\"Number of points: \", num_points)"
      ],
      "metadata": {
        "id": "LUNJsadG3vxW"
      },
      "execution_count": null,
      "outputs": []
    }
  ]
}